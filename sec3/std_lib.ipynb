{
 "cells": [
  {
   "cell_type": "code",
   "execution_count": 1,
   "id": "792d89a8",
   "metadata": {},
   "outputs": [
    {
     "name": "stdout",
     "output_type": "stream",
     "text": [
      "array('i', [1, 2, 3, 4])\n"
     ]
    }
   ],
   "source": [
    "import array\n",
    "arr=array.array('i',[1,2,3,4]) #(typ_code,array elements)\n",
    "print(arr)"
   ]
  },
  {
   "cell_type": "code",
   "execution_count": 2,
   "id": "d417a6f6",
   "metadata": {},
   "outputs": [
    {
     "name": "stdout",
     "output_type": "stream",
     "text": [
      "84\n",
      "5\n"
     ]
    }
   ],
   "source": [
    "import random\n",
    "print(random.randint(1,100))\n",
    "print(random.choice([3,4,5,6,7]))"
   ]
  },
  {
   "cell_type": "code",
   "execution_count": 4,
   "id": "ec379768",
   "metadata": {},
   "outputs": [
    {
     "name": "stdout",
     "output_type": "stream",
     "text": [
      "c:\\Users\\Praditya\\Python_Tut\\sec3\n"
     ]
    }
   ],
   "source": [
    "import os #used for file and directory access\n",
    "print(os.getcwd())"
   ]
  },
  {
   "cell_type": "code",
   "execution_count": 5,
   "id": "89ea7c1e",
   "metadata": {},
   "outputs": [],
   "source": [
    "os.mkdir('test_dir')"
   ]
  },
  {
   "cell_type": "code",
   "execution_count": 8,
   "id": "b9fce522",
   "metadata": {},
   "outputs": [
    {
     "data": {
      "text/plain": [
       "'destination.txt'"
      ]
     },
     "execution_count": 8,
     "metadata": {},
     "output_type": "execute_result"
    }
   ],
   "source": [
    "#high level ops on files\n",
    "import shutil\n",
    "shutil.copyfile('C:\\\\Users\\\\Praditya\\\\Python_Tut\\\\sec3\\\\test_dir\\\\source.txt','destination.txt')"
   ]
  },
  {
   "cell_type": "code",
   "execution_count": 14,
   "id": "c5df9ddc",
   "metadata": {},
   "outputs": [
    {
     "name": "stdout",
     "output_type": "stream",
     "text": [
      "{\"name\": \"Praditya\", \"age\": \"25\"}\n",
      "<class 'str'>\n"
     ]
    }
   ],
   "source": [
    "#data serialization\n",
    "import json\n",
    "data={'name':'Praditya','age':'25'}\n",
    "\n",
    "json_str=json.dumps(data)\n",
    "print(json_str)\n",
    "print(type(json_str))"
   ]
  },
  {
   "cell_type": "code",
   "execution_count": 15,
   "id": "0cec5fa2",
   "metadata": {},
   "outputs": [
    {
     "name": "stdout",
     "output_type": "stream",
     "text": [
      "{'name': 'Praditya', 'age': '25'}\n",
      "<class 'dict'>\n"
     ]
    }
   ],
   "source": [
    "parsed_data=json.loads(json_str)\n",
    "print(parsed_data)\n",
    "print(type(parsed_data))"
   ]
  },
  {
   "cell_type": "code",
   "execution_count": 17,
   "id": "c0c1e70e",
   "metadata": {},
   "outputs": [],
   "source": [
    "#csv\n",
    "\n",
    "import csv\n",
    "\n",
    "with open('example.csv',mode='w',newline='') as file:\n",
    "    writer=csv.writer(file)\n",
    "    writer.writerow(['name','age'])\n",
    "    writer.writerow(['Krish',23])\n"
   ]
  },
  {
   "cell_type": "code",
   "execution_count": 19,
   "id": "8cdbabea",
   "metadata": {},
   "outputs": [
    {
     "name": "stdout",
     "output_type": "stream",
     "text": [
      "['name', 'age']\n",
      "['Krish', '23']\n"
     ]
    }
   ],
   "source": [
    "with open('example.csv', mode='r') as file:\n",
    "    reader=csv.reader(file)\n",
    "    for row in reader:\n",
    "        print(row)"
   ]
  },
  {
   "cell_type": "code",
   "execution_count": 20,
   "id": "15af7f83",
   "metadata": {},
   "outputs": [
    {
     "name": "stdout",
     "output_type": "stream",
     "text": [
      "2025-06-07 16:16:09.013361\n",
      "2025-06-06 16:16:09.013361\n"
     ]
    }
   ],
   "source": [
    "#date time\n",
    "\n",
    "from datetime import datetime,timedelta \n",
    "now=datetime.now()\n",
    "print(now)\n",
    "\n",
    "yesterday=now-timedelta(days=1)\n",
    "\n",
    "print(yesterday)"
   ]
  },
  {
   "cell_type": "code",
   "execution_count": 21,
   "id": "1f0e797f",
   "metadata": {},
   "outputs": [
    {
     "name": "stdout",
     "output_type": "stream",
     "text": [
      "123\n"
     ]
    }
   ],
   "source": [
    "#reg ex\n",
    "\n",
    "import re\n",
    "\n",
    "pattern=r'\\d+'\n",
    "\n",
    "text='ther are 123 apples'\n",
    "match=re.search(pattern,text)\n",
    "print(match.group())"
   ]
  },
  {
   "cell_type": "code",
   "execution_count": null,
   "id": "01fd33b7",
   "metadata": {},
   "outputs": [],
   "source": []
  }
 ],
 "metadata": {
  "kernelspec": {
   "display_name": "base",
   "language": "python",
   "name": "python3"
  },
  "language_info": {
   "codemirror_mode": {
    "name": "ipython",
    "version": 3
   },
   "file_extension": ".py",
   "mimetype": "text/x-python",
   "name": "python",
   "nbconvert_exporter": "python",
   "pygments_lexer": "ipython3",
   "version": "3.12.7"
  }
 },
 "nbformat": 4,
 "nbformat_minor": 5
}
