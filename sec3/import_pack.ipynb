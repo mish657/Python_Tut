{
 "cells": [
  {
   "cell_type": "code",
   "execution_count": 4,
   "id": "5f4425d3",
   "metadata": {},
   "outputs": [],
   "source": [
    "import numpy as np\n",
    "import pandas"
   ]
  },
  {
   "cell_type": "code",
   "execution_count": 5,
   "id": "e2eda3a6",
   "metadata": {},
   "outputs": [
    {
     "data": {
      "text/plain": [
       "array([1, 2, 3, 4])"
      ]
     },
     "execution_count": 5,
     "metadata": {},
     "output_type": "execute_result"
    }
   ],
   "source": [
    "np.array([1,2,3,4])"
   ]
  },
  {
   "cell_type": "code",
   "execution_count": 3,
   "id": "f0cd8413",
   "metadata": {},
   "outputs": [
    {
     "name": "stdout",
     "output_type": "stream",
     "text": [
      "even\n",
      "36\n"
     ]
    }
   ],
   "source": [
    "from math import *\n",
    "from package.maths import *\n",
    "from package.subpackages.square import square_num\n",
    "add_nums(2,3)\n",
    "#substarct(5,3)\n",
    "mult(4,5)\n",
    "div(10,2)\n",
    "if(even(10)):\n",
    "    print(\"even\")\n",
    "print(square_num(6))"
   ]
  },
  {
   "cell_type": "code",
   "execution_count": null,
   "id": "de59b306",
   "metadata": {},
   "outputs": [],
   "source": [
    "\n"
   ]
  },
  {
   "cell_type": "code",
   "execution_count": null,
   "id": "8a70732d",
   "metadata": {},
   "outputs": [],
   "source": []
  }
 ],
 "metadata": {
  "kernelspec": {
   "display_name": "base",
   "language": "python",
   "name": "python3"
  },
  "language_info": {
   "codemirror_mode": {
    "name": "ipython",
    "version": 3
   },
   "file_extension": ".py",
   "mimetype": "text/x-python",
   "name": "python",
   "nbconvert_exporter": "python",
   "pygments_lexer": "ipython3",
   "version": "3.12.7"
  }
 },
 "nbformat": 4,
 "nbformat_minor": 5
}
