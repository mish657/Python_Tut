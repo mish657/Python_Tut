{
 "cells": [
  {
   "cell_type": "code",
   "execution_count": 2,
   "id": "bf27c363",
   "metadata": {},
   "outputs": [
    {
     "name": "stdout",
     "output_type": "stream",
     "text": [
      "The king stay the king\n",
      "Afd\n",
      "gdxgff\n",
      "aefgeae\n"
     ]
    }
   ],
   "source": [
    "#read a file\n",
    "\n",
    "with open('example.txt',mode='r') as file:\n",
    "    content=file.read()\n",
    "    print(content)\n"
   ]
  },
  {
   "cell_type": "code",
   "execution_count": 3,
   "id": "b60faf7f",
   "metadata": {},
   "outputs": [
    {
     "name": "stdout",
     "output_type": "stream",
     "text": [
      "The king stay the king\n",
      "Afd\n",
      "gdxgff\n",
      "aefgeae\n"
     ]
    }
   ],
   "source": [
    "with open('example.txt','r') as file:\n",
    "    for line in file:\n",
    "        print(line.strip()) #strip() removes the newline character"
   ]
  },
  {
   "cell_type": "code",
   "execution_count": 4,
   "id": "b6fff509",
   "metadata": {},
   "outputs": [],
   "source": [
    "#writing a file\n",
    "\n",
    "with open('example.txt','w') as file:\n",
    "    file.write(\"Hellow World\\n\")\n",
    "    file.write(\"This is a new line\\n\")"
   ]
  },
  {
   "cell_type": "code",
   "execution_count": 7,
   "id": "bbdf7e57",
   "metadata": {},
   "outputs": [],
   "source": [
    "#append a file\n",
    "\n",
    "with open('example.txt','a') as file:\n",
    "    file.write('append operation taking place\\n')"
   ]
  },
  {
   "cell_type": "code",
   "execution_count": 8,
   "id": "064de742",
   "metadata": {},
   "outputs": [],
   "source": [
    "#writing a list of lines\n",
    "\n",
    "lines=['First line\\n','Second line\\n','Third line \\n']\n",
    "\n",
    "with open('example.txt','a') as file:\n",
    "    file.writelines(lines)"
   ]
  },
  {
   "cell_type": "code",
   "execution_count": 9,
   "id": "86edab2c",
   "metadata": {},
   "outputs": [],
   "source": [
    "#Binary files\n",
    "data=b'\\x00\\x01'\n",
    "with open('eg.bin','wb') as file:\n",
    "    file.write(data)\n"
   ]
  },
  {
   "cell_type": "code",
   "execution_count": 11,
   "id": "b002cd24",
   "metadata": {},
   "outputs": [
    {
     "name": "stdout",
     "output_type": "stream",
     "text": [
      "b'\\x00\\x01'\n"
     ]
    }
   ],
   "source": [
    "with open('eg.bin','rb') as file:\n",
    "    content=file.read()\n",
    "    print(content)"
   ]
  },
  {
   "cell_type": "code",
   "execution_count": 12,
   "id": "e70b43b6",
   "metadata": {},
   "outputs": [
    {
     "name": "stdout",
     "output_type": "stream",
     "text": [
      "Hello World\n",
      "This is a new line\n",
      "\n"
     ]
    }
   ],
   "source": [
    "#using w+\n",
    "\n",
    "with open('example1.txt' ,'w+') as file:\n",
    "    file.write(\"Hello World\\n\")\n",
    "    file.write(\"This is a new line\\n\")\n",
    "\n",
    "    #move file cursor to the beginning\n",
    "    file.seek(0)\n",
    "\n",
    "    #read content\n",
    "    content=file.read()\n",
    "    print(content)"
   ]
  },
  {
   "cell_type": "code",
   "execution_count": null,
   "id": "41d3100c",
   "metadata": {},
   "outputs": [],
   "source": []
  }
 ],
 "metadata": {
  "kernelspec": {
   "display_name": "base",
   "language": "python",
   "name": "python3"
  },
  "language_info": {
   "codemirror_mode": {
    "name": "ipython",
    "version": 3
   },
   "file_extension": ".py",
   "mimetype": "text/x-python",
   "name": "python",
   "nbconvert_exporter": "python",
   "pygments_lexer": "ipython3",
   "version": "3.12.7"
  }
 },
 "nbformat": 4,
 "nbformat_minor": 5
}
