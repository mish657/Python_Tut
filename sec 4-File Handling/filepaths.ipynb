{
 "cells": [
  {
   "cell_type": "code",
   "execution_count": 1,
   "id": "36ee7651",
   "metadata": {},
   "outputs": [],
   "source": [
    "import os"
   ]
  },
  {
   "cell_type": "code",
   "execution_count": 2,
   "id": "74f3a267",
   "metadata": {},
   "outputs": [],
   "source": [
    "new_dir=\"package\"\n",
    "os.mkdir(new_dir)"
   ]
  },
  {
   "cell_type": "code",
   "execution_count": 3,
   "id": "a598a0cf",
   "metadata": {},
   "outputs": [
    {
     "name": "stdout",
     "output_type": "stream",
     "text": [
      "['eg.bin', 'example.txt', 'example1.txt', 'fileops.ipynb', 'filepaths.ipynb', 'package']\n"
     ]
    }
   ],
   "source": [
    "#listing files\n",
    "items=os.listdir('.')\n",
    "print(items)"
   ]
  },
  {
   "cell_type": "code",
   "execution_count": null,
   "id": "4842a97a",
   "metadata": {},
   "outputs": [],
   "source": [
    "#Joining paths\n",
    "\n",
    "dir_name='folder'\n",
    "file_name='file.txt'\n",
    "\n",
    "fullpath=os.path.join(dir_name,file_name)"
   ]
  },
  {
   "cell_type": "markdown",
   "id": "64e68cd5",
   "metadata": {},
   "source": [
    "#### isfile(path):\n",
    "to check if the path is a file\n",
    "\n",
    "#### isdir(path):\n",
    "to check if path is a directory\n",
    "\n",
    "#### abspath(relativepath):\n",
    "gives the complete path of the relative path of a file"
   ]
  }
 ],
 "metadata": {
  "kernelspec": {
   "display_name": "base",
   "language": "python",
   "name": "python3"
  },
  "language_info": {
   "codemirror_mode": {
    "name": "ipython",
    "version": 3
   },
   "file_extension": ".py",
   "mimetype": "text/x-python",
   "name": "python",
   "nbconvert_exporter": "python",
   "pygments_lexer": "ipython3",
   "version": "3.12.7"
  }
 },
 "nbformat": 4,
 "nbformat_minor": 5
}
