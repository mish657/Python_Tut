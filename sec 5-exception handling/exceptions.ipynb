{
 "cells": [
  {
   "cell_type": "code",
   "execution_count": 7,
   "id": "31ee956b",
   "metadata": {},
   "outputs": [
    {
     "name": "stdout",
     "output_type": "stream",
     "text": [
      "name 'b' is not defined\n",
      "variable has not been assigned\n"
     ]
    }
   ],
   "source": [
    "#exception try, except block\n",
    "try:\n",
    "    a=b\n",
    "except NameError as ex:\n",
    "    print(ex)\n",
    "    print('variable has not been assigned')\n"
   ]
  },
  {
   "cell_type": "code",
   "execution_count": null,
   "id": "7bc3c867",
   "metadata": {},
   "outputs": [
    {
     "name": "stdout",
     "output_type": "stream",
     "text": [
      "name 'k' is not defined\n"
     ]
    }
   ],
   "source": [
    "try:\n",
    "    #result=1/0\n",
    "    j=k\n",
    "except ZeroDivisionError as ex:\n",
    "    print(ex)\n",
    "    print(\"Please don't enter 0 as the denominator\")\n",
    "except Exception as ex1:  #parent class from which all exceptions are derived\n",
    "    print(ex1)"
   ]
  },
  {
   "cell_type": "code",
   "execution_count": 16,
   "id": "f7f74265",
   "metadata": {},
   "outputs": [
    {
     "name": "stdout",
     "output_type": "stream",
     "text": [
      "1.0\n"
     ]
    }
   ],
   "source": [
    "try:\n",
    "    num=int(input('enter a number'))\n",
    "    result=10/num\n",
    "    print(result)\n",
    "except ValueError:\n",
    "    print(\"Invalid\")\n",
    "except ZeroDivisionError:\n",
    "    print(\"Enter non-zero den\")\n",
    "except Exception as ex:\n",
    "    print(ex)\n",
    "\n"
   ]
  },
  {
   "cell_type": "code",
   "execution_count": 18,
   "id": "54c0034f",
   "metadata": {},
   "outputs": [
    {
     "name": "stdout",
     "output_type": "stream",
     "text": [
      "!\n"
     ]
    }
   ],
   "source": [
    "#try,except,else block\n",
    "\n",
    "try:\n",
    "    n=int(input(\"Enter number\"))\n",
    "    res=10/n\n",
    "except ValueError:\n",
    "    print(\"!\")\n",
    "except ZeroDivisionError:\n",
    "    print(\"!\")\n",
    "except Exception as ex2:\n",
    "    print(ex2)\n",
    "else:\n",
    "    print(f\"The result is {res}\")\n",
    "    "
   ]
  },
  {
   "cell_type": "code",
   "execution_count": 19,
   "id": "6232b303",
   "metadata": {},
   "outputs": [
    {
     "name": "stdout",
     "output_type": "stream",
     "text": [
      "!\n",
      "Execution successful\n"
     ]
    }
   ],
   "source": [
    "#try, except, else and finally\n",
    "\n",
    "try:\n",
    "    n1=int(input(\"Enter number\"))\n",
    "    res1=10/n1\n",
    "except ValueError:\n",
    "    print(\"!\")\n",
    "except ZeroDivisionError:\n",
    "    print(\"!\")\n",
    "except Exception as ex3:\n",
    "    print(ex3)\n",
    "else:                               # Excutes if no error\n",
    "    print(f\"The result is {res1}\")\n",
    "finally:                            # Executes regardless of error or not\n",
    "    print(\"Execution successful\")"
   ]
  },
  {
   "cell_type": "code",
   "execution_count": 28,
   "id": "34010c1f",
   "metadata": {},
   "outputs": [
    {
     "name": "stdout",
     "output_type": "stream",
     "text": [
      "hey yo\n",
      "File closed\n"
     ]
    }
   ],
   "source": [
    "#file handling and ex handling\n",
    "\n",
    "try:\n",
    "    file=open('example1.txt','r')\n",
    "    content=file.read()\n",
    "    print(content)\n",
    "except FileNotFoundError:\n",
    "    print(\"File doesn't exist\")\n",
    "except Exception as ex4:\n",
    "    print(ex4)\n",
    "finally:\n",
    "    if 'file' in locals() and not file.closed:\n",
    "        file.close()\n",
    "        print('File closed')"
   ]
  },
  {
   "cell_type": "code",
   "execution_count": null,
   "id": "86b05824",
   "metadata": {},
   "outputs": [],
   "source": []
  }
 ],
 "metadata": {
  "kernelspec": {
   "display_name": "base",
   "language": "python",
   "name": "python3"
  },
  "language_info": {
   "codemirror_mode": {
    "name": "ipython",
    "version": 3
   },
   "file_extension": ".py",
   "mimetype": "text/x-python",
   "name": "python",
   "nbconvert_exporter": "python",
   "pygments_lexer": "ipython3",
   "version": "3.12.7"
  }
 },
 "nbformat": 4,
 "nbformat_minor": 5
}
