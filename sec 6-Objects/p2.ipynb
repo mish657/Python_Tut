{
 "cells": [
  {
   "cell_type": "markdown",
   "id": "6fb207f7",
   "metadata": {},
   "source": [
    "### Inheritance in Python\n",
    "\n",
    "###### Inheritance is a fundamental concept in OOPs programming that allows a class to inherit attricutes and methods from another class. "
   ]
  },
  {
   "cell_type": "code",
   "execution_count": 1,
   "id": "d3e5f818",
   "metadata": {},
   "outputs": [],
   "source": [
    "#Inheritance\n",
    "\n",
    "#Parent class\n",
    "\n",
    "class Car:\n",
    "    def __init__(self,windows,doors,engine):\n",
    "        self.windows=windows\n",
    "        self.doors=doors\n",
    "        self.engine=engine\n",
    "\n",
    "    def drive(self):\n",
    "        print(f\"The person will drive the {self.engine} car\")\n",
    "    "
   ]
  },
  {
   "cell_type": "code",
   "execution_count": 2,
   "id": "37be87f5",
   "metadata": {},
   "outputs": [],
   "source": [
    "car1=Car(4,4,\"Petrol\")"
   ]
  },
  {
   "cell_type": "code",
   "execution_count": 3,
   "id": "373b5d77",
   "metadata": {},
   "outputs": [],
   "source": [
    "#child class\n",
    "class Ford(Car):\n",
    "\n",
    "    def __init__(self,windows,doors,engine,model):\n",
    "        super().__init__(windows,doors,engine)\n",
    "        self.model=model\n",
    "    \n",
    "    def modelf(self):\n",
    "        print(f\"The model is {self.model}\")"
   ]
  },
  {
   "cell_type": "code",
   "execution_count": 6,
   "id": "37a59951",
   "metadata": {},
   "outputs": [
    {
     "name": "stdout",
     "output_type": "stream",
     "text": [
      "The model is Ecosport\n",
      "The person will drive the Diesel car\n"
     ]
    }
   ],
   "source": [
    "ford1=Ford(4,4,'Diesel','Ecosport')\n",
    "ford1.modelf()\n",
    "ford1.drive()"
   ]
  },
  {
   "cell_type": "code",
   "execution_count": 8,
   "id": "4cefcda7",
   "metadata": {},
   "outputs": [
    {
     "name": "stdout",
     "output_type": "stream",
     "text": [
      "Buddy says woof\n"
     ]
    }
   ],
   "source": [
    "#Multiple Inheritance-when a class inherits from more than 1 base class\n",
    "\n",
    "#base class 1\n",
    "class Animal:\n",
    "    def __init__(self,name):\n",
    "        self.name=name\n",
    "    \n",
    "    def speak(self):\n",
    "        print(\"Subclasses must implement this method\")\n",
    "\n",
    "#base class 2\n",
    "\n",
    "class Pet:\n",
    "    def __init__(self,owner):\n",
    "        self.owner=owner\n",
    "\n",
    "#Derived class\n",
    "class Dog(Animal,Pet):\n",
    "    def __init__(self,name,owner):\n",
    "        Animal.__init__(self,name)\n",
    "        Pet.__init__(self,owner)\n",
    "\n",
    "    def speak(self):\n",
    "        return f\"{self.name} says woof\"\n",
    "    \n",
    "#create object\n",
    "\n",
    "dog=Dog(\"Buddy\",\"Praditya\")\n",
    "print(dog.speak())\n"
   ]
  },
  {
   "cell_type": "code",
   "execution_count": 11,
   "id": "59778ae1",
   "metadata": {},
   "outputs": [
    {
     "data": {
      "text/plain": [
       "'Lakers has selected Luka in round 1 '"
      ]
     },
     "execution_count": 11,
     "metadata": {},
     "output_type": "execute_result"
    }
   ],
   "source": [
    "class NBA_Draft():\n",
    "    def __init__(self,team,round,player):\n",
    "        self.team=team\n",
    "        self.round=round\n",
    "        self.player=player\n",
    "    \n",
    "    def announce(self):\n",
    "        print(\"To be handles by subclasses\")\n",
    "\n",
    "class Contract():\n",
    "    def __init__(self,contract):\n",
    "        self.contract=contract\n",
    "\n",
    "#dervied class\n",
    "\n",
    "class Info(NBA_Draft,Contract):\n",
    "    def __init__(self,team,round,player,contract):\n",
    "        NBA_Draft.__init__(self,team,round,player)\n",
    "        Contract.__init__(self,contract)\n",
    "\n",
    "    def announce(self):\n",
    "        return f\"{self.team} has selected {self.player} in round {self.round} \" \n",
    "\n",
    "info=Info(\"Lakers\",1,\"Luka\",\"Rookie\")\n",
    "info.announce()"
   ]
  },
  {
   "cell_type": "code",
   "execution_count": null,
   "id": "cc28c61f",
   "metadata": {},
   "outputs": [],
   "source": []
  }
 ],
 "metadata": {
  "kernelspec": {
   "display_name": "base",
   "language": "python",
   "name": "python3"
  },
  "language_info": {
   "codemirror_mode": {
    "name": "ipython",
    "version": 3
   },
   "file_extension": ".py",
   "mimetype": "text/x-python",
   "name": "python",
   "nbconvert_exporter": "python",
   "pygments_lexer": "ipython3",
   "version": "3.12.7"
  }
 },
 "nbformat": 4,
 "nbformat_minor": 5
}
