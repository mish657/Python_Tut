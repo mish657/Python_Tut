{
 "cells": [
  {
   "cell_type": "code",
   "execution_count": 2,
   "id": "e38252bf",
   "metadata": {},
   "outputs": [],
   "source": [
    "class Car:\n",
    "    pass\n",
    "\n",
    "audi=Car()\n",
    "bmw=Car()"
   ]
  },
  {
   "cell_type": "code",
   "execution_count": null,
   "id": "a1f37da3",
   "metadata": {},
   "outputs": [
    {
     "name": "stdout",
     "output_type": "stream",
     "text": [
      "4\n"
     ]
    }
   ],
   "source": [
    "audi.windows=4\n",
    "print(audi.windows)"
   ]
  },
  {
   "cell_type": "code",
   "execution_count": 7,
   "id": "7049602e",
   "metadata": {},
   "outputs": [],
   "source": [
    "#instance variables\n",
    "\n",
    "class Dog:\n",
    "    #constructor\n",
    "    def __init__(self,name,age,breed):\n",
    "        self.name=name\n",
    "        self.age=age\n",
    "        self.breed=breed\n",
    "\n",
    "#create objects\n",
    "\n",
    "dog1=Dog(\"Rudy\",5,\"Boxer\")\n",
    "dog2=Dog(\"lara\",8,\"Boxer\")"
   ]
  },
  {
   "cell_type": "code",
   "execution_count": 15,
   "id": "2f94af9e",
   "metadata": {},
   "outputs": [
    {
     "name": "stdout",
     "output_type": "stream",
     "text": [
      "3\n",
      "6\n"
     ]
    }
   ],
   "source": [
    "#define a new class with instance methods\n",
    "\n",
    "class Score:\n",
    "    def __init__(self,home,away):\n",
    "        self.home=home\n",
    "        self.away=away\n",
    "\n",
    "    def update_homescore(self,shot):\n",
    "        self.home=self.home+shot\n",
    "    \n",
    "    def update_awayscore(self,shot):\n",
    "        self.away=self.away+shot\n",
    "\n",
    "play1=Score(0,0)\n",
    "play1.update_homescore(3)\n",
    "print(play1.home)\n",
    "play1.update_homescore(3)\n",
    "print(play1.home)"
   ]
  },
  {
   "cell_type": "code",
   "execution_count": 21,
   "id": "256f5af9",
   "metadata": {},
   "outputs": [
    {
     "name": "stdout",
     "output_type": "stream",
     "text": [
      "New Balance= 10000\n",
      "New balance= 5000\n"
     ]
    },
    {
     "data": {
      "text/plain": [
       "5000"
      ]
     },
     "execution_count": 21,
     "metadata": {},
     "output_type": "execute_result"
    }
   ],
   "source": [
    "#modelling a bank account\n",
    "class Bank:\n",
    "    def __init__(self,owner,balance=0):\n",
    "        self.owner=owner\n",
    "        self.balance=balance\n",
    "    \n",
    "    def deposit(self,amount):\n",
    "        self.balance+=amount\n",
    "        print(f\"New Balance= {self.balance}\")\n",
    "\n",
    "    def withdraw(self, amount):\n",
    "        if(amount>self.balance):\n",
    "            print(\"insufficient funds\")\n",
    "        else:\n",
    "            self.balance-=amount\n",
    "            print(f\"New balance= {self.balance}\")\n",
    "    \n",
    "    def get_balance(self):\n",
    "        return self.balance\n",
    "    \n",
    "#create an account\n",
    "\n",
    "account1=Bank(\"Praditya\",5000)\n",
    "account1.deposit(5000)\n",
    "account1.withdraw(5000)\n",
    "account1.get_balance()"
   ]
  },
  {
   "cell_type": "code",
   "execution_count": null,
   "id": "eb88f137",
   "metadata": {},
   "outputs": [],
   "source": []
  }
 ],
 "metadata": {
  "kernelspec": {
   "display_name": "base",
   "language": "python",
   "name": "python3"
  },
  "language_info": {
   "codemirror_mode": {
    "name": "ipython",
    "version": 3
   },
   "file_extension": ".py",
   "mimetype": "text/x-python",
   "name": "python",
   "nbconvert_exporter": "python",
   "pygments_lexer": "ipython3",
   "version": "3.12.7"
  }
 },
 "nbformat": 4,
 "nbformat_minor": 5
}
