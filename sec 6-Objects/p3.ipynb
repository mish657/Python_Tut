{
 "cells": [
  {
   "cell_type": "markdown",
   "id": "6a9f6b2c",
   "metadata": {},
   "source": [
    "#### Method Overriding\n",
    "\n",
    "###### Allows a child class to provide a specific implementation of a method that is already defined in it's parent class.\n"
   ]
  },
  {
   "cell_type": "code",
   "execution_count": 3,
   "id": "e87f1a41",
   "metadata": {},
   "outputs": [
    {
     "name": "stdout",
     "output_type": "stream",
     "text": [
      "Woof!\n",
      "Meow!\n",
      "Woof!\n"
     ]
    }
   ],
   "source": [
    "#Base class\n",
    "\n",
    "class Animal:\n",
    "    def speak(self):\n",
    "        return \"sound of the animal\"\n",
    "    \n",
    "#derived class 1\n",
    "class Dog(Animal):\n",
    "    def speak(self):\n",
    "        return \"Woof!\"\n",
    "\n",
    "#derived class 2\n",
    "class Cat(Animal):\n",
    "    def speak(self):\n",
    "        return \"Meow!\"\n",
    "\n",
    "def animal_speak(animal):\n",
    "    print(animal.speak())\n",
    "\n",
    "dog=Dog()\n",
    "cat=Cat()\n",
    "print(dog.speak())\n",
    "print(cat.speak())\n",
    "animal_speak(dog)\n"
   ]
  },
  {
   "cell_type": "code",
   "execution_count": 4,
   "id": "c0163d71",
   "metadata": {},
   "outputs": [
    {
     "name": "stdout",
     "output_type": "stream",
     "text": [
      "20\n",
      "78.5\n"
     ]
    }
   ],
   "source": [
    "#Polymorphism with functions and methods\n",
    "\n",
    "class Shape:\n",
    "    def area(self):\n",
    "        return \"The area of the figure\"\n",
    "    \n",
    "#Derived class 1\n",
    "class Rectangle(Shape):\n",
    "    def __init__(self,width,height):\n",
    "        self.width=width\n",
    "        self.height=height\n",
    "    \n",
    "    def area(self):\n",
    "        return self.width*self.height\n",
    "\n",
    "#derived class 2\n",
    "class Circle(Shape):\n",
    "    def __init__(self,radius):\n",
    "        self.radius=radius\n",
    "\n",
    "    def area(self):\n",
    "        return 3.14*(self.radius**2)\n",
    "    \n",
    "#Function that demonstartes polymorphism\n",
    "\n",
    "def print_area(shape):\n",
    "    print(f\"{shape.area()}\")\n",
    "\n",
    "rectangle=Rectangle(4,5)\n",
    "circle=Circle(5)\n",
    "\n",
    "print_area(rectangle)\n",
    "print_area(circle)"
   ]
  },
  {
   "cell_type": "markdown",
   "id": "387b97fa",
   "metadata": {},
   "source": [
    "##### Polymorphism with Abstract Base classes\n",
    "\n",
    "###### Abstract base classes are used to define common methods for a group of related objects. They can enforce that derived classes enforce particular methods, promoting consistency.\n",
    "\n"
   ]
  },
  {
   "cell_type": "code",
   "execution_count": 5,
   "id": "ec0c81e3",
   "metadata": {},
   "outputs": [
    {
     "name": "stdout",
     "output_type": "stream",
     "text": [
      "Car engine started\n",
      "Motor cycle engien started\n"
     ]
    }
   ],
   "source": [
    "from abc import ABC, abstractmethod\n",
    "\n",
    "##Define an abstract class\n",
    "\n",
    "class Vehicle(ABC):\n",
    "    @abstractmethod\n",
    "    def start_engine(self):\n",
    "        pass\n",
    "\n",
    "#Derived class 1\n",
    "\n",
    "class Car1(Vehicle):\n",
    "    def start_engine(self):\n",
    "        return \"Car engine started\"\n",
    "\n",
    "class Motor_cycle(Vehicle):\n",
    "    def start_engine(self):\n",
    "        return \"Motor cycle engien started\"\n",
    "\n",
    "#Function that demonstrates polymorphism\n",
    "def start_vehicle(vehicle):\n",
    "    print(vehicle.start_engine())\n",
    "\n",
    "#create the objects\n",
    "\n",
    "car=Car1()\n",
    "motor=Motor_cycle()\n",
    "\n",
    "start_vehicle(car)\n",
    "start_vehicle(motor)\n",
    "\n"
   ]
  },
  {
   "cell_type": "code",
   "execution_count": 8,
   "id": "82170e0e",
   "metadata": {},
   "outputs": [
    {
     "name": "stdout",
     "output_type": "stream",
     "text": [
      "2 points\n",
      "3 points\n",
      "1 Point\n"
     ]
    }
   ],
   "source": [
    "class Score(ABC):\n",
    "    @abstractmethod\n",
    "    def desc(self):\n",
    "        pass\n",
    "\n",
    "class Dunk(Score):\n",
    "    def desc(self):\n",
    "        print(\"2 points\")\n",
    "\n",
    "class Three(Score):\n",
    "    def desc(self):\n",
    "        print(\"3 points\")\n",
    "\n",
    "class FT(Score):\n",
    "    def desc(self):\n",
    "        print(\"1 Point\")\n",
    "\n",
    "def shot_desc(shot):\n",
    "    shot.desc()\n",
    "\n",
    "dunk=Dunk()\n",
    "three=Three()\n",
    "ft=FT()\n",
    "\n",
    "shot_desc(dunk)\n",
    "shot_desc(three)\n",
    "shot_desc(ft)"
   ]
  },
  {
   "cell_type": "code",
   "execution_count": null,
   "id": "d0caac8e",
   "metadata": {},
   "outputs": [],
   "source": []
  }
 ],
 "metadata": {
  "kernelspec": {
   "display_name": "base",
   "language": "python",
   "name": "python3"
  },
  "language_info": {
   "codemirror_mode": {
    "name": "ipython",
    "version": 3
   },
   "file_extension": ".py",
   "mimetype": "text/x-python",
   "name": "python",
   "nbconvert_exporter": "python",
   "pygments_lexer": "ipython3",
   "version": "3.12.7"
  }
 },
 "nbformat": 4,
 "nbformat_minor": 5
}
