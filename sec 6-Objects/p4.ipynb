{
 "cells": [
  {
   "cell_type": "code",
   "execution_count": null,
   "id": "1ae3649a",
   "metadata": {},
   "outputs": [
    {
     "name": "stdout",
     "output_type": "stream",
     "text": [
      "Praditya\n"
     ]
    }
   ],
   "source": [
    "class Person:\n",
    "    def __init__(self,name,age):\n",
    "        self.name=name ##public variable\n",
    "        self.age=age\n",
    "\n",
    "person=Person(\"Praditya\",23)\n",
    "print(person.name)"
   ]
  },
  {
   "cell_type": "code",
   "execution_count": 23,
   "id": "bf5e007f",
   "metadata": {},
   "outputs": [],
   "source": [
    "#private\n",
    "\n",
    "class Car:\n",
    "    def __init__(self,model,max_speed):\n",
    "        self._model=model        #protected variable\n",
    "        self._max_speed=max_speed  #private variable\n",
    "\n",
    "class Ford(Car):    \n",
    "    def __init__(self,model,max_speed):\n",
    "        super().__init__(model,max_speed)\n"
   ]
  },
  {
   "cell_type": "code",
   "execution_count": 26,
   "id": "6d9e5112",
   "metadata": {},
   "outputs": [],
   "source": [
    "car1=Ford(\"Fiesta\",180)"
   ]
  },
  {
   "cell_type": "code",
   "execution_count": 31,
   "id": "97b7bbfc",
   "metadata": {},
   "outputs": [
    {
     "name": "stdout",
     "output_type": "stream",
     "text": [
      "Praditya\n",
      "Pra\n"
     ]
    }
   ],
   "source": [
    "#Getter and Setter Method\n",
    "\n",
    "class Persona:\n",
    "    def __init__(self,name,age):\n",
    "        self.__name=name\n",
    "        self.__age=age\n",
    "\n",
    "    #getter method\n",
    "    def get_name(self):\n",
    "        return self.__name\n",
    "    \n",
    "    #setter method\n",
    "    def set_name(self,name):\n",
    "        self.__name=name\n",
    "\n",
    "per=Persona(\"Praditya\",23)\n",
    "\n",
    "#Access and modify private variables\n",
    "\n",
    "print(per.get_name())\n",
    "\n",
    "per.set_name(\"Pra\")\n",
    "print(per.get_name())"
   ]
  },
  {
   "cell_type": "code",
   "execution_count": null,
   "id": "d2747723",
   "metadata": {},
   "outputs": [],
   "source": []
  }
 ],
 "metadata": {
  "kernelspec": {
   "display_name": "base",
   "language": "python",
   "name": "python3"
  },
  "language_info": {
   "codemirror_mode": {
    "name": "ipython",
    "version": 3
   },
   "file_extension": ".py",
   "mimetype": "text/x-python",
   "name": "python",
   "nbconvert_exporter": "python",
   "pygments_lexer": "ipython3",
   "version": "3.12.7"
  }
 },
 "nbformat": 4,
 "nbformat_minor": 5
}
