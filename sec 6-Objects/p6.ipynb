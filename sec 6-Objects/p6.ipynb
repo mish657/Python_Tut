{
 "cells": [
  {
   "cell_type": "markdown",
   "id": "b992e170",
   "metadata": {},
   "source": [
    "##### Magic Methods\n",
    "\n",
    "Magic methods are predefined methods in python that you can override to change the behavior of your objects. Some common magic methods include:\n",
    "\n",
    "- __init__: Initializes new instance of a class\n",
    "- __str__: Returns a string representation of an object\n",
    "- __repr__: Returns an official string represenatation of an object\n",
    "- __getitem__: Gets an item from a container\n",
    "- __setitem__: Sets an item in a container"
   ]
  },
  {
   "cell_type": "code",
   "execution_count": 1,
   "id": "9ab92ac6",
   "metadata": {},
   "outputs": [
    {
     "data": {
      "text/plain": [
       "['__class__',\n",
       " '__delattr__',\n",
       " '__dict__',\n",
       " '__dir__',\n",
       " '__doc__',\n",
       " '__eq__',\n",
       " '__format__',\n",
       " '__ge__',\n",
       " '__getattribute__',\n",
       " '__getstate__',\n",
       " '__gt__',\n",
       " '__hash__',\n",
       " '__init__',\n",
       " '__init_subclass__',\n",
       " '__le__',\n",
       " '__lt__',\n",
       " '__module__',\n",
       " '__ne__',\n",
       " '__new__',\n",
       " '__reduce__',\n",
       " '__reduce_ex__',\n",
       " '__repr__',\n",
       " '__setattr__',\n",
       " '__sizeof__',\n",
       " '__str__',\n",
       " '__subclasshook__',\n",
       " '__weakref__']"
      ]
     },
     "execution_count": 1,
     "metadata": {},
     "output_type": "execute_result"
    }
   ],
   "source": [
    "class Person:\n",
    "    pass \n",
    "\n",
    "person=Person()\n",
    "dir(person)"
   ]
  },
  {
   "cell_type": "code",
   "execution_count": 2,
   "id": "dd2dc56b",
   "metadata": {},
   "outputs": [
    {
     "name": "stdout",
     "output_type": "stream",
     "text": [
      "<__main__.Person object at 0x000001CA5EFD0D10>\n"
     ]
    }
   ],
   "source": [
    "print(person)"
   ]
  },
  {
   "cell_type": "code",
   "execution_count": 5,
   "id": "afa24b1e",
   "metadata": {},
   "outputs": [
    {
     "name": "stdout",
     "output_type": "stream",
     "text": [
      "Praditya is 23 years old.\n",
      "Person(name=Praditya, age=23)\n"
     ]
    }
   ],
   "source": [
    "#Overriding basic methods\n",
    "class Persona:\n",
    "    def __init__(self,name,age):\n",
    "        self.name=name\n",
    "        self.age=age\n",
    "    def __str__(self):\n",
    "        return f\"{self.name} is {self.age} years old.\"\n",
    "    def __repr__(self):\n",
    "        return f\"Person(name={self.name}, age={self.age})\"\n",
    "\n",
    "persona=Persona(\"Praditya\",23)\n",
    "print(persona)\n",
    "print(repr(persona))\n"
   ]
  },
  {
   "cell_type": "code",
   "execution_count": null,
   "id": "402e478c",
   "metadata": {},
   "outputs": [],
   "source": []
  }
 ],
 "metadata": {
  "kernelspec": {
   "display_name": "base",
   "language": "python",
   "name": "python3"
  },
  "language_info": {
   "codemirror_mode": {
    "name": "ipython",
    "version": 3
   },
   "file_extension": ".py",
   "mimetype": "text/x-python",
   "name": "python",
   "nbconvert_exporter": "python",
   "pygments_lexer": "ipython3",
   "version": "3.12.7"
  }
 },
 "nbformat": 4,
 "nbformat_minor": 5
}
