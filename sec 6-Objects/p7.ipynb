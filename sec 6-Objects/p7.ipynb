{
 "cells": [
  {
   "cell_type": "markdown",
   "id": "e708d446",
   "metadata": {},
   "source": [
    "## Operator Overloading\n",
    "\n",
    " Operator overloading allows you to define the behavior of perators(+,-,*,etc.) for custom objects. You achieve this by overriding specific magic methods in your class."
   ]
  },
  {
   "cell_type": "markdown",
   "id": "3a1784c9",
   "metadata": {},
   "source": [
    "### Common Operator Overloading Magic Methods\n",
    "\n",
    "- __add__(self,other)- Adds two objects using the + operator.\n",
    "- __sub__(self,other)- Subtracts two objects using the - operator.\n",
    "- __mul__(self,other)- Multiplies two objects using the * operator.\n",
    "- __truediv__(self,other)- Divides two objects using the / operator.\n",
    "- __eq__(self,other)- Checks if two objects are equal using the == operator.\n"
   ]
  },
  {
   "cell_type": "code",
   "execution_count": 8,
   "id": "bf2b1e52",
   "metadata": {},
   "outputs": [],
   "source": [
    "class Vector:\n",
    "    def __init__(self,x,y):\n",
    "        self.x=x\n",
    "        self.y=y\n",
    "    \n",
    "    def __add__(self,other):\n",
    "        return Vector(self.x+other.x,self.y+other.y)\n",
    "    \n",
    "    def __sub__(self,other):\n",
    "        return Vector(self.x-other.x,self.y-other.y)\n",
    "\n",
    "    def __repr__(self):\n",
    "        return f\"Vector({self.x}, {self.y})\"\n",
    "\n",
    "v1=Vector(2,3)\n",
    "v2=Vector(4,5)"
   ]
  },
  {
   "cell_type": "code",
   "execution_count": 10,
   "id": "88be81a9",
   "metadata": {},
   "outputs": [
    {
     "name": "stdout",
     "output_type": "stream",
     "text": [
      "Vector(6, 8)\n",
      "Vector(2, 2)\n"
     ]
    }
   ],
   "source": [
    "print(v1+v2)\n",
    "print(v2-v1)"
   ]
  },
  {
   "cell_type": "code",
   "execution_count": null,
   "id": "0368b3a5",
   "metadata": {},
   "outputs": [],
   "source": []
  }
 ],
 "metadata": {
  "kernelspec": {
   "display_name": "base",
   "language": "python",
   "name": "python3"
  },
  "language_info": {
   "codemirror_mode": {
    "name": "ipython",
    "version": 3
   },
   "file_extension": ".py",
   "mimetype": "text/x-python",
   "name": "python",
   "nbconvert_exporter": "python",
   "pygments_lexer": "ipython3",
   "version": "3.12.7"
  }
 },
 "nbformat": 4,
 "nbformat_minor": 5
}
